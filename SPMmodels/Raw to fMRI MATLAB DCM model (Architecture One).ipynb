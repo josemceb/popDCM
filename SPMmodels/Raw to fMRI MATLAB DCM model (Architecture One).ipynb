{
 "cells": [
  {
   "cell_type": "markdown",
   "metadata": {},
   "source": [
    "# POP - Raw to fMRI MATLAB DCM model \n",
    "### DCM Architecture One\n",
    "\n",
    "Jupyter Notebook for generating individual subject session.m files to generate an SPM fMRI GLM in a DCM-compatible way. "
   ]
  },
  {
   "cell_type": "code",
   "execution_count": 132,
   "metadata": {
    "collapsed": true
   },
   "outputs": [],
   "source": [
    "import numpy as np\n",
    "import pandas as pd\n",
    "import re\n",
    "import os"
   ]
  },
  {
   "cell_type": "code",
   "execution_count": 135,
   "metadata": {
    "collapsed": true
   },
   "outputs": [],
   "source": [
    "folder = './fMRI Models/'"
   ]
  },
  {
   "cell_type": "code",
   "execution_count": 136,
   "metadata": {
    "collapsed": true
   },
   "outputs": [],
   "source": [
    "def getSubjectNumber(filename):\n",
    "    subjNumberRegex = re.compile('''\n",
    "    # filename will be something like '16048.csv'\n",
    "    # Regex looks for a 5-digit string in the filename\n",
    "    # Separators are inconsistent, so parsing only by continuous digits\n",
    "    (\\d\\d\\d\\d\\d)\n",
    "    ''', re.VERBOSE)\n",
    "\n",
    "    extractSubjNumber = subjNumberRegex.findall(filename)\n",
    "    subjNumber = extractSubjNumber[0]\n",
    "\n",
    "    return subjNumber"
   ]
  },
  {
   "cell_type": "code",
   "execution_count": 137,
   "metadata": {
    "collapsed": true
   },
   "outputs": [],
   "source": [
    "%%capture\n",
    "session1Duration = pd.read_table('./fMRI Models/raw/session1Durations.txt', sep = ' ')\n",
    "\n",
    "for folderName, subfolders, filenames in os.walk(folder):\n",
    "\n",
    "    for file in filenames:\n",
    "        if file.endswith('.csv'):\n",
    "            subjectNo = getSubjectNumber(file)\n",
    "            session1Vols = (session1Duration[session1Duration['Subject'] == int(subjectNo)]['Session1Volumes'].values[0])\n",
    "            \n",
    "            # Reading file\n",
    "            raw = pd.read_table(folder + file, sep=',')\n",
    "            correctTrials = raw[raw['Arrow1.ACC'] == 1]\n",
    "\n",
    "            session1Onset = np.mean(raw['Session1Onset.RTTime'])\n",
    "            session2Onset = np.mean(raw['Session2Onset.RTTime']) \n",
    "\n",
    "            session1 = correctTrials[correctTrials['Procedure[Block]'] == 'Session1'].copy()\n",
    "            session2 = correctTrials[correctTrials['Procedure[Block]'] == 'Session2'].copy()\n",
    "\n",
    "            # Session 1 - Conditions 1-5 (s1c#) Onsets and Durations: String Variables\n",
    "            ## One: All Cues (cues have a set duration of 500 ms)\n",
    "            s1c1Onset = ', '.join(str((i - session1Onset)/1000) for i in session1['Cue.OnsetTime'])\n",
    "\n",
    "            ## Two: All Arrows\n",
    "            s1c2Onset = ', '.join(str((i - session1Onset)/1000) for i in session1['Arrow1.OnsetTime'])\n",
    "            s1c2Duration = ', '.join(str(i/1000) for i in session1['Arrow1.RT'])\n",
    "\n",
    "            ## Three: Incongruent Cues\n",
    "            s1c3Onset = ', '.join(str((i - session1Onset)/1000) for i in session1[session1['Cue'] == 'Red']['Cue.OnsetTime'])\n",
    "\n",
    "            ## Four: Proactive Incongruent Arrows\n",
    "            s1c4Onset = ', '.join(str((i - session1Onset)/1000) for i in session1[session1['Cue'] == 'Red']['Arrow1.OnsetTime'])\n",
    "            s1c4Duration = ', '.join(str(i/1000) for i in session1[session1['Cue'] == 'Red']['Arrow1.RT'])\n",
    "\n",
    "            ## Five: Reactive Incongruent arrows\n",
    "            s1c5Onset = ', '.join(str((i - session1Onset)/1000) for i in session1[session1['ArrowColor'] == 'Red']['Arrow1.OnsetTime'])\n",
    "            s1c5Duration = ', '.join(str(i/1000) for i in session1[session1['ArrowColor'] == 'Red']['Arrow1.RT'])\n",
    "\n",
    "\n",
    "            # Session 2\n",
    "            # One: All Cues\n",
    "            s2c1Onset = ', '.join(str(((i - session2Onset)/1000) + session1Vols) for i in session2['Cue.OnsetTime'])\n",
    "\n",
    "            ## Two: All Arrows\n",
    "            s2c2Onset = ', '.join(str(((i - session2Onset)/1000) + session1Vols) for i in session2['Arrow1.OnsetTime'])\n",
    "            s2c2Duration = ', '.join(str(i/1000) for i in session2['Arrow1.RT'])\n",
    "\n",
    "            ## Three: Incongruent Cues\n",
    "            s2c3Onset = ', '.join(str(((i - session2Onset)/1000) + session1Vols) for i in session2[session2['Cue'] == 'Red']['Cue.OnsetTime'])\n",
    "\n",
    "            ## Four: Proactive Incongruent Arrows\n",
    "            s2c4Onset = ', '.join(str(((i - session2Onset)/1000) + session1Vols) for i in session2[session2['Cue'] == 'Red']['Arrow1.OnsetTime'])\n",
    "            s2c4Duration = ', '.join(str(i/1000) for i in session2[session2['Cue'] == 'Red']['Arrow1.RT'])\n",
    "\n",
    "            ## Five: Reactive Incongruent arrows\n",
    "            s2c5Onset = ', '.join(str(((i - session2Onset)/1000) + session1Vols) for i in session2[session2['ArrowColor'] == 'Red']['Arrow1.OnsetTime'])\n",
    "            s2c5Duration = ', '.join(str(i/1000) for i in session2[session2['ArrowColor'] == 'Red']['Arrow1.RT'])\n",
    "\n",
    "\n",
    "            f = open(folder + subjectNo + '-DCMsessionsFile.txt', 'w')\n",
    "            f.write('''names=cell(1,5);\n",
    "onsets=cell(1,5);\n",
    "durations=cell(1,5);\n",
    "\n",
    "% Condition 1 \n",
    "names{1}='Cues';\n",
    "onsets{1}=['''+ s1c1Onset + ', ' + s2c1Onset +'''];\n",
    "durations{1}=[0.5];\n",
    "\n",
    "% Condition 2 \n",
    "names{2}='Arrows';\n",
    "onsets{2}=['''+ s1c2Onset + ', ' + s2c2Onset +'''];\n",
    "durations{2}=['''+ s1c2Duration + ', ' + s2c2Duration +'''];\n",
    "\n",
    "% Condition 3 \n",
    "names{3}='Inc_Cues';\n",
    "onsets{3}=['''+ s1c3Onset + ', ' + s2c3Onset +'''];\n",
    "durations{3}=[0.5];\n",
    "\n",
    "% Condition 4\n",
    "names{4}='Pro_Inc_Arrows';\n",
    "onsets{4}=['''+ s1c4Onset + ', ' + s2c4Onset +'''];\n",
    "durations{4}=['''+ s1c4Duration + ', ' + s2c4Duration +'''];\n",
    "\n",
    "% Condition 5\n",
    "names{5}='Rea_Inc_Arrow';\n",
    "onsets{5}=['''+ s1c5Onset + ', ' + s2c5Onset +'''];\n",
    "durations{5}=['''+ s1c5Duration + ', ' + s2c5Duration +'''];\n",
    "\n",
    "save('sessions_dcm.mat', 'names', 'onsets', 'durations');''')\n",
    "            f.close()\n",
    "        else:\n",
    "            pass"
   ]
  }
 ],
 "metadata": {
  "kernelspec": {
   "display_name": "Python [conda env:Py3.5]",
   "language": "python",
   "name": "conda-env-Py3.5-py"
  },
  "language_info": {
   "codemirror_mode": {
    "name": "ipython",
    "version": 3
   },
   "file_extension": ".py",
   "mimetype": "text/x-python",
   "name": "python",
   "nbconvert_exporter": "python",
   "pygments_lexer": "ipython3",
   "version": "3.5.2"
  }
 },
 "nbformat": 4,
 "nbformat_minor": 1
}
