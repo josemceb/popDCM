{
 "cells": [
  {
   "cell_type": "markdown",
   "metadata": {},
   "source": [
    "# POP Task: Raw to fMRI MATLAB DCM model \n",
    "\n",
    "### DCM Architecture Two\n",
    "\n",
    "Jupyter Notebook for generating individual subject session.m files to generate an SPM fMRI GLM in a DCM-compatible way. \n",
    "\n",
    "Note:\n",
    "- This notebook generates models for a different DCM common architecture, where the model inputs have changed. \n",
    "- This notebook also generates one file for all subjects, as opposed to an individual file for each subject. "
   ]
  },
  {
   "cell_type": "code",
   "execution_count": 114,
   "metadata": {
    "collapsed": true
   },
   "outputs": [],
   "source": [
    "import numpy as np\n",
    "import pandas as pd\n",
    "import re\n",
    "import os"
   ]
  },
  {
   "cell_type": "code",
   "execution_count": 115,
   "metadata": {
    "collapsed": true
   },
   "outputs": [],
   "source": [
    "dataFolder = './data/'"
   ]
  },
  {
   "cell_type": "code",
   "execution_count": 116,
   "metadata": {
    "collapsed": true
   },
   "outputs": [],
   "source": [
    "def getSubjectNumber(filename):\n",
    "    subjNumberRegex = re.compile('''\n",
    "    # filename will be something like '16048.csv'\n",
    "    # Regex looks for a 5-digit string in the filename\n",
    "    # Separators are inconsistent, so parsing only by continuous digits\n",
    "    (\\d\\d\\d\\d\\d)\n",
    "    ''', re.VERBOSE)\n",
    "\n",
    "    extractSubjNumber = subjNumberRegex.findall(filename)\n",
    "    subjNumber = extractSubjNumber[0]\n",
    "\n",
    "    return subjNumber"
   ]
  },
  {
   "cell_type": "code",
   "execution_count": 117,
   "metadata": {
    "collapsed": true
   },
   "outputs": [],
   "source": [
    "%%capture\n",
    "\n",
    "session1Duration = pd.read_table(dataFolder + 'session1Durations.txt', sep = ' ')\n",
    "\n",
    "f = open('./ArchTwoModels/DCMsessionsFile_ArchTwo.txt', 'w')\n",
    "\n",
    "for folderName, subfolders, filenames in os.walk(dataFolder):\n",
    "\n",
    "    for file in filenames:\n",
    "        if file.endswith('.csv'):\n",
    "            subjectNo = getSubjectNumber(file)\n",
    "            session1Vols = (session1Duration[session1Duration['Subject'] == int(subjectNo)]['Session1Volumes'].values[0])\n",
    "            \n",
    "            # Reading file\n",
    "            raw = pd.read_table(dataFolder + file, sep=',')\n",
    "            correctTrials = raw[raw['Arrow1.ACC'] == 1]\n",
    "\n",
    "            session1Onset = np.mean(raw['Session1Onset.RTTime'])\n",
    "            session2Onset = np.mean(raw['Session2Onset.RTTime']) \n",
    "\n",
    "            session1 = correctTrials[correctTrials['Procedure[Block]'] == 'Session1'].copy()\n",
    "            session2 = correctTrials[correctTrials['Procedure[Block]'] == 'Session2'].copy()\n",
    "\n",
    "            # Session 1 - Conditions 1-5 (s1c#) Onsets and Durations\n",
    "            ## One: All Cues (cues have a set duration of 500 ms)\n",
    "            s1c1Onset = ', '.join(str((i - session1Onset)/1000) for i in session1['Cue.OnsetTime'])\n",
    "\n",
    "            ## Two: All Arrows\n",
    "            s1c2Onset = ', '.join(str((i - session1Onset)/1000) for i in session1['Arrow1.OnsetTime'])\n",
    "            s1c2Duration = ', '.join(str(i/1000) for i in session1['Arrow1.RT'])\n",
    "\n",
    "            ## Three: Information (Cue info - Duration through end of trial / buttom press)\n",
    "            s1c3Onset = ', '.join(str((i - session1Onset)/1000) for i in session1[(session1['Cue'] == 'Red') | (session1['Cue'] == 'Green')]['Cue.OnsetTime'])\n",
    "            \n",
    "            information1 = session1[(session1['Cue'] == 'Red') | (session1['Cue'] == 'Green')]\n",
    "            informationDuration1 = []\n",
    "            for i in range(len(information1)):\n",
    "                informationDuration1.append((information1['Arrow1.RTTime'].iloc[i] - information1['Cue.OnsetTime'].iloc[i])/1000)\n",
    "            s1c3Duration = ', '.join(str(i) for i in informationDuration1)\n",
    "\n",
    "            ## Four: Incongruence (At the arrow only, across both cuing conditions)\n",
    "            s1c4Onset = ', '.join(str((i - session1Onset)/1000) for i in session1[(session1['Cue'] == 'Red') | (session1['ArrowColor'] == 'Red')]['Arrow1.OnsetTime'])\n",
    "            s1c4Duration = ', '.join(str(i/1000) for i in session1[(session1['Cue'] == 'Red') | (session1['ArrowColor'] == 'Red')]['Arrow1.RT'])\n",
    "\n",
    "\n",
    "            # Session 2 - Conditions 1-5 (s2c#) Onsets and Durations\n",
    "            # One: All Cues\n",
    "            s2c1Onset = ', '.join(str(((i - session2Onset)/1000) + session1Vols) for i in session2['Cue.OnsetTime'])\n",
    "\n",
    "            ## Two: All Arrows\n",
    "            s2c2Onset = ', '.join(str(((i - session2Onset)/1000) + session1Vols) for i in session2['Arrow1.OnsetTime'])\n",
    "            s2c2Duration = ', '.join(str(i/1000) for i in session2['Arrow1.RT'])\n",
    "\n",
    "            ## Three: Information (Cue info: Duration through end of trial / buttom press)\n",
    "            s2c3Onset = ', '.join(str(((i - session2Onset)/1000) + session1Vols) for i in session2[(session2['Cue'] == 'Red') | (session2['Cue'] == 'Green')]['Cue.OnsetTime'])\n",
    "            \n",
    "            information2 = session2[(session2['Cue'] == 'Red') | (session2['Cue'] == 'Green')]\n",
    "            informationDuration2 = []\n",
    "            for i in range(len(information2)):\n",
    "                informationDuration2.append((information2['Arrow1.RTTime'].iloc[i] - information2['Cue.OnsetTime'].iloc[i])/1000)\n",
    "            s2c3Duration = ', '.join(str(i) for i in informationDuration2)\n",
    "            \n",
    "            ## Four: Incongruence (At the arrow only, across both cuing conditions)\n",
    "            s2c4Onset = ', '.join(str(((i - session2Onset)/1000) + session1Vols) for i in session2[(session2['Cue'] == 'Red') | (session2['ArrowColor'] == 'Red')]['Arrow1.OnsetTime'])\n",
    "            s2c4Duration = ', '.join(str(i/1000) for i in session2[(session2['Cue'] == 'Red') | (session2['ArrowColor'] == 'Red')]['Arrow1.RT'])            \n",
    "            \n",
    "            f.write('''cd /projects/LITL_POP/POP_DCM/'''+ subjectNo +'''/behav/\n",
    "\n",
    "disp('Creating model for subject '''+ subjectNo +'''')\n",
    "\n",
    "names=cell(1,4);\n",
    "onsets=cell(1,4);\n",
    "durations=cell(1,4);\n",
    "\n",
    "% Condition 1 \n",
    "names{1}='Cues';\n",
    "onsets{1}=['''+ s1c1Onset + ', ' + s2c1Onset +'''];\n",
    "durations{1}=[0.5];\n",
    "\n",
    "% Condition 2 \n",
    "names{2}='Arrows';\n",
    "onsets{2}=['''+ s1c2Onset + ', ' + s2c2Onset +'''];\n",
    "durations{2}=['''+ s1c2Duration + ', ' + s2c2Duration +'''];\n",
    "\n",
    "% Condition 3 \n",
    "names{3}='Information';\n",
    "onsets{3}=['''+ s1c3Onset + ', ' + s2c3Onset +'''];\n",
    "durations{3}=['''+ s1c3Duration + ', ' + s2c3Duration +'''];\n",
    "\n",
    "% Condition 4\n",
    "names{4}='Incongruence';\n",
    "onsets{4}=['''+ s1c4Onset + ', ' + s2c4Onset +'''];\n",
    "durations{4}=['''+ s1c4Duration + ', ' + s2c4Duration +'''];\n",
    "\n",
    "save('sessions_dcm.mat', 'names', 'onsets', 'durations');\n",
    "\n",
    "''')\n",
    "            \n",
    "        else:\n",
    "            pass\n",
    "f.close()"
   ]
  }
 ],
 "metadata": {
  "kernelspec": {
   "display_name": "Python [conda env:Py3.5]",
   "language": "python",
   "name": "conda-env-Py3.5-py"
  },
  "language_info": {
   "codemirror_mode": {
    "name": "ipython",
    "version": 3
   },
   "file_extension": ".py",
   "mimetype": "text/x-python",
   "name": "python",
   "nbconvert_exporter": "python",
   "pygments_lexer": "ipython3",
   "version": "3.5.2"
  }
 },
 "nbformat": 4,
 "nbformat_minor": 1
}
